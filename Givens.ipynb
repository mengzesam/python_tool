{
 "cells": [
  {
   "cell_type": "code",
   "execution_count": 25,
   "metadata": {},
   "outputs": [
    {
     "data": {
      "text/latex": [
       "$\\displaystyle \\left[\\begin{matrix}c \\left(a_{11} c + a_{12} s\\right) + s \\left(a_{12} c + a_{22} s\\right) & c \\left(a_{12} c + a_{22} s\\right) - s \\left(a_{11} c + a_{12} s\\right)\\\\- c \\left(a_{11} s - a_{12} c\\right) - s \\left(a_{12} s - a_{22} c\\right) & - c \\left(a_{12} s - a_{22} c\\right) + s \\left(a_{11} s - a_{12} c\\right)\\end{matrix}\\right]$"
      ],
      "text/plain": [
       "[[c*(a11*c + a12*s) + s*(a12*c + a22*s), c*(a12*c + a22*s) - s*(a11*c + a12*s)], [-c*(a11*s - a12*c) - s*(a12*s - a22*c), -c*(a12*s - a22*c) + s*(a11*s - a12*c)]]"
      ]
     },
     "execution_count": 25,
     "metadata": {},
     "output_type": "execute_result"
    }
   ],
   "source": [
    "import numpy as np\n",
    "from sympy import symbols \n",
    "import sympy\n",
    "c,s,a11,a12,a21,a22=symbols(\"c s a11 a12 a21 a22\")\n",
    "A=np.array([a11,a12,a12,a22]).reshape(2,2)\n",
    "G=np.array([c,-s,s,c]).reshape(2,2)\n",
    "GT=np.transpose(G)\n",
    "B=np.dot(np.dot(GT,A),G)\n",
    "sympy.simplify(B)"
   ]
  },
  {
   "cell_type": "code",
   "execution_count": 58,
   "metadata": {},
   "outputs": [
    {
     "data": {
      "text/latex": [
       "$\\displaystyle \\left[\\begin{matrix}a_{11} & a_{12} & a_{13} \\cos{\\left(θ \\right)} + a_{16} \\sin{\\left(θ \\right)} & a_{14} & a_{15} & - a_{13} \\sin{\\left(θ \\right)} + a_{16} \\cos{\\left(θ \\right)} & a_{17} & a_{18}\\\\a_{21} & a_{22} & a_{23} \\cos{\\left(θ \\right)} + a_{26} \\sin{\\left(θ \\right)} & a_{24} & a_{25} & - a_{23} \\sin{\\left(θ \\right)} + a_{26} \\cos{\\left(θ \\right)} & a_{27} & a_{28}\\\\a_{31} \\cos{\\left(θ \\right)} + a_{61} \\sin{\\left(θ \\right)} & a_{32} \\cos{\\left(θ \\right)} + a_{62} \\sin{\\left(θ \\right)} & \\frac{a_{33} \\cos{\\left(2 θ \\right)}}{2} + \\frac{a_{33}}{2} + \\frac{a_{36} \\sin{\\left(2 θ \\right)}}{2} + \\frac{a_{63} \\sin{\\left(2 θ \\right)}}{2} - \\frac{a_{66} \\cos{\\left(2 θ \\right)}}{2} + \\frac{a_{66}}{2} & a_{34} \\cos{\\left(θ \\right)} + a_{64} \\sin{\\left(θ \\right)} & a_{35} \\cos{\\left(θ \\right)} + a_{65} \\sin{\\left(θ \\right)} & - \\frac{a_{33} \\sin{\\left(2 θ \\right)}}{2} + \\frac{a_{36} \\cos{\\left(2 θ \\right)}}{2} + \\frac{a_{36}}{2} + \\frac{a_{63} \\cos{\\left(2 θ \\right)}}{2} - \\frac{a_{63}}{2} + \\frac{a_{66} \\sin{\\left(2 θ \\right)}}{2} & a_{37} \\cos{\\left(θ \\right)} + a_{67} \\sin{\\left(θ \\right)} & a_{38} \\cos{\\left(θ \\right)} + a_{68} \\sin{\\left(θ \\right)}\\\\a_{41} & a_{42} & a_{43} \\cos{\\left(θ \\right)} + a_{46} \\sin{\\left(θ \\right)} & a_{44} & a_{45} & - a_{43} \\sin{\\left(θ \\right)} + a_{46} \\cos{\\left(θ \\right)} & a_{47} & a_{48}\\\\a_{51} & a_{52} & a_{53} \\cos{\\left(θ \\right)} + a_{56} \\sin{\\left(θ \\right)} & a_{54} & a_{55} & - a_{53} \\sin{\\left(θ \\right)} + a_{56} \\cos{\\left(θ \\right)} & a_{57} & a_{58}\\\\- a_{31} \\sin{\\left(θ \\right)} + a_{61} \\cos{\\left(θ \\right)} & - a_{32} \\sin{\\left(θ \\right)} + a_{62} \\cos{\\left(θ \\right)} & - \\frac{a_{33} \\sin{\\left(2 θ \\right)}}{2} + \\frac{a_{36} \\cos{\\left(2 θ \\right)}}{2} - \\frac{a_{36}}{2} + \\frac{a_{63} \\cos{\\left(2 θ \\right)}}{2} + \\frac{a_{63}}{2} + \\frac{a_{66} \\sin{\\left(2 θ \\right)}}{2} & - a_{34} \\sin{\\left(θ \\right)} + a_{64} \\cos{\\left(θ \\right)} & - a_{35} \\sin{\\left(θ \\right)} + a_{65} \\cos{\\left(θ \\right)} & - \\frac{a_{33} \\cos{\\left(2 θ \\right)}}{2} + \\frac{a_{33}}{2} - \\frac{a_{36} \\sin{\\left(2 θ \\right)}}{2} - \\frac{a_{63} \\sin{\\left(2 θ \\right)}}{2} + \\frac{a_{66} \\cos{\\left(2 θ \\right)}}{2} + \\frac{a_{66}}{2} & - a_{37} \\sin{\\left(θ \\right)} + a_{67} \\cos{\\left(θ \\right)} & - a_{38} \\sin{\\left(θ \\right)} + a_{68} \\cos{\\left(θ \\right)}\\\\a_{71} & a_{72} & a_{73} \\cos{\\left(θ \\right)} + a_{76} \\sin{\\left(θ \\right)} & a_{74} & a_{75} & - a_{73} \\sin{\\left(θ \\right)} + a_{76} \\cos{\\left(θ \\right)} & a_{77} & a_{78}\\\\a_{81} & a_{82} & a_{83} \\cos{\\left(θ \\right)} + a_{86} \\sin{\\left(θ \\right)} & a_{84} & a_{85} & - a_{83} \\sin{\\left(θ \\right)} + a_{86} \\cos{\\left(θ \\right)} & a_{87} & a_{88}\\end{matrix}\\right]$"
      ],
      "text/plain": [
       "Matrix([\n",
       "[                     a11,                      a12,                                                            a13*cos(θ) + a16*sin(θ),                      a14,                      a15,                                                           -a13*sin(θ) + a16*cos(θ),                      a17,                      a18],\n",
       "[                     a21,                      a22,                                                            a23*cos(θ) + a26*sin(θ),                      a24,                      a25,                                                           -a23*sin(θ) + a26*cos(θ),                      a27,                      a28],\n",
       "[ a31*cos(θ) + a61*sin(θ),  a32*cos(θ) + a62*sin(θ),  a33*cos(2*θ)/2 + a33/2 + a36*sin(2*θ)/2 + a63*sin(2*θ)/2 - a66*cos(2*θ)/2 + a66/2,  a34*cos(θ) + a64*sin(θ),  a35*cos(θ) + a65*sin(θ), -a33*sin(2*θ)/2 + a36*cos(2*θ)/2 + a36/2 + a63*cos(2*θ)/2 - a63/2 + a66*sin(2*θ)/2,  a37*cos(θ) + a67*sin(θ),  a38*cos(θ) + a68*sin(θ)],\n",
       "[                     a41,                      a42,                                                            a43*cos(θ) + a46*sin(θ),                      a44,                      a45,                                                           -a43*sin(θ) + a46*cos(θ),                      a47,                      a48],\n",
       "[                     a51,                      a52,                                                            a53*cos(θ) + a56*sin(θ),                      a54,                      a55,                                                           -a53*sin(θ) + a56*cos(θ),                      a57,                      a58],\n",
       "[-a31*sin(θ) + a61*cos(θ), -a32*sin(θ) + a62*cos(θ), -a33*sin(2*θ)/2 + a36*cos(2*θ)/2 - a36/2 + a63*cos(2*θ)/2 + a63/2 + a66*sin(2*θ)/2, -a34*sin(θ) + a64*cos(θ), -a35*sin(θ) + a65*cos(θ), -a33*cos(2*θ)/2 + a33/2 - a36*sin(2*θ)/2 - a63*sin(2*θ)/2 + a66*cos(2*θ)/2 + a66/2, -a37*sin(θ) + a67*cos(θ), -a38*sin(θ) + a68*cos(θ)],\n",
       "[                     a71,                      a72,                                                            a73*cos(θ) + a76*sin(θ),                      a74,                      a75,                                                           -a73*sin(θ) + a76*cos(θ),                      a77,                      a78],\n",
       "[                     a81,                      a82,                                                            a83*cos(θ) + a86*sin(θ),                      a84,                      a85,                                                           -a83*sin(θ) + a86*cos(θ),                      a87,                      a88]])"
      ]
     },
     "execution_count": 58,
     "metadata": {},
     "output_type": "execute_result"
    }
   ],
   "source": [
    "import numpy as np\n",
    "from sympy import symbols \n",
    "import sympy\n",
    "theta=symbols(\"θ\")\n",
    "c=sympy.cos(theta)\n",
    "s=sympy.sin(theta)\n",
    "a11,a12,a13,a14,a15,a16,a17,a18=symbols(\"a11 a12 a13 a14 a15 a16 a17 a18\")\n",
    "a21,a22,a23,a24,a25,a26,a27,a28=symbols(\"a21 a22 a23 a24 a25 a26 a27 a28\")\n",
    "a31,a32,a33,a34,a35,a36,a37,a38=symbols(\"a31 a32 a33 a34 a35 a36 a37 a38\")\n",
    "a41,a42,a43,a44,a45,a46,a47,a48=symbols(\"a41 a42 a43 a44 a45 a46 a47 a48\")\n",
    "a51,a52,a53,a54,a55,a56,a57,a58=symbols(\"a51 a52 a53 a54 a55 a56 a57 a58\")\n",
    "a61,a62,a63,a64,a65,a66,a67,a68=symbols(\"a61 a62 a63 a64 a65 a66 a67 a68\")\n",
    "a71,a72,a73,a74,a75,a76,a77,a78=symbols(\"a71 a72 a73 a74 a75 a76 a77 a78\")\n",
    "a81,a82,a83,a84,a85,a86,a87,a88=symbols(\"a81 a82 a83 a84 a85 a86 a87 a88\")\n",
    "n=8\n",
    "i=3\n",
    "j=6\n",
    "G=sympy.eye(n)\n",
    "G[i-1,i-1]=c\n",
    "G[i-1,j-1]=-s\n",
    "G[j-1,i-1]=s\n",
    "G[j-1,j-1]=c\n",
    "GT=G.T\n",
    "A_=sympy.Matrix([\n",
    "    [a11,a12,a13,a14,a15,a16,a17,a18],\n",
    "    [a12,a22,a23,a24,a25,a26,a27,a28],\n",
    "    [a13,a23,a33,a34,a35,a36,a37,a38],\n",
    "    [a14,a24,a34,a44,a45,a46,a47,a48],\n",
    "    [a15,a25,a35,a45,a55,a56,a57,a58],\n",
    "    [a16,a26,a36,a46,a56,a66,a67,a68],\n",
    "    [a17,a27,a37,a47,a57,a67,a77,a78],\n",
    "    [a18,a28,a38,a48,a58,a68,a78,a88]\n",
    "])\n",
    "A=sympy.Matrix([\n",
    "    [a11,a12,a13,a14,a15,a16,a17,a18],\n",
    "    [a21,a22,a23,a24,a25,a26,a27,a28],\n",
    "    [a31,a32,a33,a34,a35,a36,a37,a38],\n",
    "    [a41,a42,a43,a44,a45,a46,a47,a48],\n",
    "    [a51,a52,a53,a54,a55,a56,a57,a58],\n",
    "    [a61,a62,a63,a64,a65,a66,a67,a68],\n",
    "    [a71,a72,a73,a74,a75,a76,a77,a78],\n",
    "    [a81,a82,a83,a84,a85,a86,a87,a88]\n",
    "])\n",
    "sympy.simplify(GT*A*G)\n"
   ]
  },
  {
   "cell_type": "code",
   "execution_count": 121,
   "metadata": {},
   "outputs": [
    {
     "data": {
      "text/latex": [
       "$\\displaystyle \\left[\\begin{matrix}a_{11} & a_{12} & a_{13} \\cos{\\left(θ \\right)} + a_{16} \\sin{\\left(θ \\right)} & a_{14} & a_{15} & - a_{13} \\sin{\\left(θ \\right)} + a_{16} \\cos{\\left(θ \\right)} & a_{17} & a_{18}\\\\a_{12} & a_{22} & a_{23} \\cos{\\left(θ \\right)} + a_{26} \\sin{\\left(θ \\right)} & a_{24} & a_{25} & - a_{23} \\sin{\\left(θ \\right)} + a_{26} \\cos{\\left(θ \\right)} & a_{27} & a_{28}\\\\a_{13} \\cos{\\left(θ \\right)} + a_{16} \\sin{\\left(θ \\right)} & a_{23} \\cos{\\left(θ \\right)} + a_{26} \\sin{\\left(θ \\right)} & a_{33} \\cos^{2}{\\left(θ \\right)} + a_{36} \\sin{\\left(2 θ \\right)} + a_{66} \\sin^{2}{\\left(θ \\right)} & a_{34} \\cos{\\left(θ \\right)} + a_{46} \\sin{\\left(θ \\right)} & a_{35} \\cos{\\left(θ \\right)} + a_{56} \\sin{\\left(θ \\right)} & - \\frac{a_{33} \\sin{\\left(2 θ \\right)}}{2} + a_{36} \\cos{\\left(2 θ \\right)} + \\frac{a_{66} \\sin{\\left(2 θ \\right)}}{2} & a_{37} \\cos{\\left(θ \\right)} + a_{67} \\sin{\\left(θ \\right)} & a_{38} \\cos{\\left(θ \\right)} + a_{68} \\sin{\\left(θ \\right)}\\\\a_{14} & a_{24} & a_{34} \\cos{\\left(θ \\right)} + a_{46} \\sin{\\left(θ \\right)} & a_{44} & a_{45} & - a_{34} \\sin{\\left(θ \\right)} + a_{46} \\cos{\\left(θ \\right)} & a_{47} & a_{48}\\\\a_{15} & a_{25} & a_{35} \\cos{\\left(θ \\right)} + a_{56} \\sin{\\left(θ \\right)} & a_{45} & a_{55} & - a_{35} \\sin{\\left(θ \\right)} + a_{56} \\cos{\\left(θ \\right)} & a_{57} & a_{58}\\\\- a_{13} \\sin{\\left(θ \\right)} + a_{16} \\cos{\\left(θ \\right)} & - a_{23} \\sin{\\left(θ \\right)} + a_{26} \\cos{\\left(θ \\right)} & - \\frac{a_{33} \\sin{\\left(2 θ \\right)}}{2} + a_{36} \\cos{\\left(2 θ \\right)} + \\frac{a_{66} \\sin{\\left(2 θ \\right)}}{2} & - a_{34} \\sin{\\left(θ \\right)} + a_{46} \\cos{\\left(θ \\right)} & - a_{35} \\sin{\\left(θ \\right)} + a_{56} \\cos{\\left(θ \\right)} & a_{33} \\sin^{2}{\\left(θ \\right)} - a_{36} \\sin{\\left(2 θ \\right)} + a_{66} \\cos^{2}{\\left(θ \\right)} & - a_{37} \\sin{\\left(θ \\right)} + a_{67} \\cos{\\left(θ \\right)} & - a_{38} \\sin{\\left(θ \\right)} + a_{68} \\cos{\\left(θ \\right)}\\\\a_{17} & a_{27} & a_{37} \\cos{\\left(θ \\right)} + a_{67} \\sin{\\left(θ \\right)} & a_{47} & a_{57} & - a_{37} \\sin{\\left(θ \\right)} + a_{67} \\cos{\\left(θ \\right)} & a_{77} & a_{78}\\\\a_{18} & a_{28} & a_{38} \\cos{\\left(θ \\right)} + a_{68} \\sin{\\left(θ \\right)} & a_{48} & a_{58} & - a_{38} \\sin{\\left(θ \\right)} + a_{68} \\cos{\\left(θ \\right)} & a_{78} & a_{88}\\end{matrix}\\right]$"
      ],
      "text/plain": [
       "Matrix([\n",
       "[                     a11,                      a12,                         a13*cos(θ) + a16*sin(θ),                      a14,                      a15,                        -a13*sin(θ) + a16*cos(θ),                      a17,                      a18],\n",
       "[                     a12,                      a22,                         a23*cos(θ) + a26*sin(θ),                      a24,                      a25,                        -a23*sin(θ) + a26*cos(θ),                      a27,                      a28],\n",
       "[ a13*cos(θ) + a16*sin(θ),  a23*cos(θ) + a26*sin(θ),    a33*cos(θ)**2 + a36*sin(2*θ) + a66*sin(θ)**2,  a34*cos(θ) + a46*sin(θ),  a35*cos(θ) + a56*sin(θ), -a33*sin(2*θ)/2 + a36*cos(2*θ) + a66*sin(2*θ)/2,  a37*cos(θ) + a67*sin(θ),  a38*cos(θ) + a68*sin(θ)],\n",
       "[                     a14,                      a24,                         a34*cos(θ) + a46*sin(θ),                      a44,                      a45,                        -a34*sin(θ) + a46*cos(θ),                      a47,                      a48],\n",
       "[                     a15,                      a25,                         a35*cos(θ) + a56*sin(θ),                      a45,                      a55,                        -a35*sin(θ) + a56*cos(θ),                      a57,                      a58],\n",
       "[-a13*sin(θ) + a16*cos(θ), -a23*sin(θ) + a26*cos(θ), -a33*sin(2*θ)/2 + a36*cos(2*θ) + a66*sin(2*θ)/2, -a34*sin(θ) + a46*cos(θ), -a35*sin(θ) + a56*cos(θ),    a33*sin(θ)**2 - a36*sin(2*θ) + a66*cos(θ)**2, -a37*sin(θ) + a67*cos(θ), -a38*sin(θ) + a68*cos(θ)],\n",
       "[                     a17,                      a27,                         a37*cos(θ) + a67*sin(θ),                      a47,                      a57,                        -a37*sin(θ) + a67*cos(θ),                      a77,                      a78],\n",
       "[                     a18,                      a28,                         a38*cos(θ) + a68*sin(θ),                      a48,                      a58,                        -a38*sin(θ) + a68*cos(θ),                      a78,                      a88]])"
      ]
     },
     "execution_count": 121,
     "metadata": {},
     "output_type": "execute_result"
    }
   ],
   "source": [
    "sympy.simplify(GT*A_*G)"
   ]
  },
  {
   "cell_type": "code",
   "execution_count": 9,
   "metadata": {},
   "outputs": [
    {
     "name": "stdout",
     "output_type": "stream",
     "text": [
      "A=\n",
      " [[1]] \n",
      "\n",
      "Jacobi方法特征值:\n",
      " [1] \n",
      "\n",
      "numpy计算特征值:\n",
      " [1.] \n",
      "\n"
     ]
    }
   ],
   "source": [
    "import numpy as np\n",
    "\n",
    "def Jacobi(A,n): #A为nxn对称矩阵，求对称矩阵特征值，返回1xn数组保存特征值\n",
    "    if(n==1):\n",
    "        ans=[0]\n",
    "        ans[0]=A[0,0]\n",
    "        return ans\n",
    "    AA=np.zeros(int(n*(n+1)/2))\n",
    "    for k in range(n):#根据对称矩阵A特点，AA为一维数组只保存A矩阵上三角元素（包括对角元素），0至n-1保存对角元素\n",
    "        AA[k]=A[k,k]\n",
    "    k=n\n",
    "    for r in range(n-1):#AA的第n个元素开始保存上三角非对角元素\n",
    "        for c in range(r+1,n):\n",
    "            AA[k]=A[r,c]\n",
    "            k=k+1\n",
    "    air_old=np.zeros(n)\n",
    "    k=n\n",
    "    idx=n #非对角最大元素index\n",
    "    i=0\n",
    "    j=1\n",
    "    for r in range(n-1):\n",
    "        for c in range(r+1,n):\n",
    "            if(abs(AA[k])>abs(AA[idx])):\n",
    "                idx=k\n",
    "                i=r\n",
    "                j=c\n",
    "            k=k+1  \n",
    "    eps=1e-8\n",
    "    itera=0\n",
    "    while(abs(AA[idx])>eps and itera<100): \n",
    "        itera=itera+1\n",
    "        theta=np.arctan2(2*AA[idx],(AA[i]-AA[j]))/2\n",
    "        cos=np.cos(theta)\n",
    "        sin=np.sin(theta)\n",
    "        aij=AA[idx]\n",
    "        aii=AA[i]\n",
    "        ajj=AA[j]\n",
    "        rs=int(n+i*n-i*(i+1)/2)  #rs为上三角每一行（第1至第n-1行）第一个元素在AA中的index\n",
    "        kk=0\n",
    "        for k in range(rs,rs+j-i-1):#先保存aij行元素，j>i\n",
    "            air_old[kk]=AA[k]\n",
    "            kk=kk+1\n",
    "        for k in range(rs+j-i,rs+n-i-1):\n",
    "            air_old[kk]=AA[k]\n",
    "            kk=kk+1\n",
    "        for r in range(i): #计算1至i-1行i列和j列\n",
    "            rs=int(n+r*n-r*(r+1)/2)\n",
    "            ari=AA[rs+i-r-1]\n",
    "            arj=AA[rs+j-r-1]\n",
    "            AA[rs+i-r-1]=ari*cos+arj*sin\n",
    "            AA[rs+j-r-1]=-ari*sin+arj*cos\n",
    "        for c in range(i+1,j): #计算i行i+1列至j-1列\n",
    "            rs=int(n+i*n-i*(i+1)/2)\n",
    "            rsc=int(n+c*n-c*(c+1)/2)\n",
    "            AA[rs+c-i-1]=AA[rs+c-i-1]*cos+AA[rsc+j-c-1]*sin\n",
    "        for c in range(j+1,n):#计算i行j+1列至n列\n",
    "            rs=int(n+i*n-i*(i+1)/2)\n",
    "            rsj=int(n+j*n-j*(j+1)/2)\n",
    "            AA[rs+c-i-1]=AA[rs+c-i-1]*cos+AA[rsj+c-j-1]*sin\n",
    "        k=0\n",
    "        for r in range(i+1,j):#计算i+1行至j-1行j列\n",
    "            rs=int(n+r*n-r*(r+1)/2)\n",
    "            AA[rs+j-r-1]=-air_old[k]*sin+AA[rs+j-r-1]*cos\n",
    "            k=k+1\n",
    "        for c in range(j+1,n):#计算j行j+1列至n列\n",
    "            rs=int(n+j*n-j*(j+1)/2)\n",
    "            AA[rs+c-j-1]=-air_old[k]*sin+AA[rs+c-j-1]*cos\n",
    "            k=k+1\n",
    "        AA[idx]=0\n",
    "        AA[i]=aii*cos*cos+ajj*sin*sin+2*aij*cos*sin\n",
    "        AA[j]=aii*sin*sin+ajj*cos*cos-2*aij*cos*sin\n",
    "        k=n\n",
    "        idx=n\n",
    "        i=0\n",
    "        j=1\n",
    "        for r in range(n-1):\n",
    "            for c in range(r+1,n):\n",
    "                if(abs(AA[k])>abs(AA[idx])):\n",
    "                    idx=k\n",
    "                    i=r\n",
    "                    j=c\n",
    "                k=k+1 \n",
    "    #print('itera',itera)\n",
    "    ans=np.zeros(n)\n",
    "    for k in range(n):\n",
    "        ans[k]=AA[k]\n",
    "    return ans\n",
    "\n",
    "\n",
    "#A=np.array([3.5,-6,5,-6,8.5,-9,5,-9,8.5]).reshape(3,3)\n",
    "#A=np.array([1,2**0.5,2,2**0.5,3,2**0.5,2,2**0.5,1]).reshape(3,3)\n",
    "#A=np.array([3,1,0,1,4,2,0,2,1]).reshape(3,3)\n",
    "A=np.array([4,2,0,0,0,2,4,2,0,0,0,2,4,2,0,0,0,2,4,2,0,0,0,2,4]).reshape(5,5)\n",
    "A=np.array([3,2,1,2,3,0,1,0,3]).reshape(3,3)\n",
    "A=np.array([2,4,4,3]).reshape(2,2)\n",
    "A=np.array([1]).reshape(1,1)\n",
    "n,_=A.shape\n",
    "print('A=\\n',A,'\\n')\n",
    "print('Jacobi方法特征值:\\n',Jacobi(A,n),'\\n')\n",
    "eigs,_=np.linalg.eig(A)\n",
    "print('numpy计算特征值:\\n',eigs,'\\n')"
   ]
  },
  {
   "cell_type": "code",
   "execution_count": null,
   "metadata": {},
   "outputs": [],
   "source": []
  },
  {
   "cell_type": "code",
   "execution_count": null,
   "metadata": {},
   "outputs": [],
   "source": []
  }
 ],
 "metadata": {
  "kernelspec": {
   "display_name": "Python 3",
   "language": "python",
   "name": "python3"
  },
  "language_info": {
   "codemirror_mode": {
    "name": "ipython",
    "version": 3
   },
   "file_extension": ".py",
   "mimetype": "text/x-python",
   "name": "python",
   "nbconvert_exporter": "python",
   "pygments_lexer": "ipython3",
   "version": "3.6.9"
  },
  "toc": {
   "base_numbering": 1,
   "nav_menu": {},
   "number_sections": true,
   "sideBar": true,
   "skip_h1_title": false,
   "title_cell": "Table of Contents",
   "title_sidebar": "Contents",
   "toc_cell": false,
   "toc_position": {},
   "toc_section_display": true,
   "toc_window_display": false
  }
 },
 "nbformat": 4,
 "nbformat_minor": 4
}
